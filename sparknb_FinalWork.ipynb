{
 "cells": [
  {
   "cell_type": "markdown",
   "metadata": {},
   "source": [
    "# Big Data - Final Work - Scala"
   ]
  },
  {
   "cell_type": "markdown",
   "metadata": {},
   "source": [
    "## Initial configuration for Spark + JVM"
   ]
  },
  {
   "cell_type": "code",
   "execution_count": 1,
   "metadata": {},
   "outputs": [],
   "source": [
    "%%init_spark\n",
    "launcher.master = \"local[*]\"\n",
    "launcher.driver_memory = '20g'\n",
    "launcher.executor_memory = '20g'\n",
    "launcher.verbose = 'true'"
   ]
  },
  {
   "cell_type": "code",
   "execution_count": null,
   "metadata": {},
   "outputs": [],
   "source": [
    "%%init_spark\n",
    "launcher.conf.set(\"spark.app.name\", \"scalaXgbTest\")\n",
    "launcher.num_executors = 3\n",
    "launcher.executor_cores = 7 //launcher.conf.spark.executor.cores = 8\n",
    "launcher.conf.spark.task.cpus = 6\n",
    "launcher.driver_memory = '4g'\n",
    "launcher.executor_memory = '4g'\n",
    "launcher.conf.set(\"spark.executor.heartbeatInterval\", \"6000s\")\n",
    "launcher.conf.set(\"spark.yarn.scheduler.heartbeat.interval-ms\", \"10000s\")\n",
    "launcher.conf.set(\"spark.network.timeout\", \"10000s\")\n",
    "launcher.conf.set(\"spark.yarn.executor.memoryOverhead\", \"8192\")\n",
    "launcher.conf.set(\"spark.sql.catalogImplementation\", \"hive\")\n",
    "launcher.jars = [\"file://some/jar.jar\", \"xgboost-maven-0.82/xgboost4j-spark-0.82.jar\", \"xgboost-maven-0.82/xgboost4j-0.82.jar\"]"
   ]
  },
  {
   "cell_type": "code",
   "execution_count": 2,
   "metadata": {},
   "outputs": [
    {
     "data": {
      "text/plain": [
       "Intitializing Scala interpreter ..."
      ]
     },
     "metadata": {},
     "output_type": "display_data"
    },
    {
     "data": {
      "text/plain": [
       "Spark Web UI available at http://cln-rio-06:4041\n",
       "SparkContext available as 'sc' (version = 3.0.1, master = local[*], app id = local-1602535469960)\n",
       "SparkSession available as 'spark'\n"
      ]
     },
     "metadata": {},
     "output_type": "display_data"
    },
    {
     "name": "stdout",
     "output_type": "stream",
     "text": [
      "spylon-kernel\n",
      "local[*]\n"
     ]
    }
   ],
   "source": [
    "println(sc.appName)\n",
    "println(sc.master)"
   ]
  },
  {
   "cell_type": "markdown",
   "metadata": {},
   "source": [
    "## General imports"
   ]
  },
  {
   "cell_type": "code",
   "execution_count": 3,
   "metadata": {
    "scrolled": true
   },
   "outputs": [
    {
     "data": {
      "text/plain": [
       "import org.apache.spark.sql.types._\n",
       "import org.apache.spark.sql.functions._\n",
       "import spark.implicits._\n",
       "import org.apache.spark.sql.expressions._\n"
      ]
     },
     "execution_count": 3,
     "metadata": {},
     "output_type": "execute_result"
    }
   ],
   "source": [
    "import org.apache.spark.sql.types._      // include the Spark Types to define our schema\n",
    "import org.apache.spark.sql.functions._  // include the Spark helper functions\n",
    "import spark.implicits._                 // For implicit conversions like converting RDDs to DataFrames\n",
    "import org.apache.spark.sql.expressions._"
   ]
  },
  {
   "cell_type": "markdown",
   "metadata": {},
   "source": [
    "## DB JSON schema"
   ]
  },
  {
   "cell_type": "code",
   "execution_count": 4,
   "metadata": {},
   "outputs": [
    {
     "data": {
      "text/plain": [
       "location_schema: org.apache.spark.sql.types.MapType = MapType(StringType,StructType(StructField(accuracy,DoubleType,true), StructField(address,StringType,true), StructField(altitude,DoubleType,true), StructField(country,StringType,true), StructField(latitude,DoubleType,true), StructField(longitude,DoubleType,true), StructField(provider,StringType,true), StructField(timestamp,StructType(StructField(date,LongType,true), StructField(day,LongType,true), StructField(hours,LongType,true), StructField(minutes,LongType,true), StructField(month,LongType,true), StructField(nanos,LongType,true), StructField(seconds,LongType,true), StructField(time,LongType,true), StructField(timezoneOffset,LongType,true), StructField(year,LongType,true)),true), StructField(uid,StringType,true)),true)\n",
       "schema: org.a...\n"
      ]
     },
     "execution_count": 4,
     "metadata": {},
     "output_type": "execute_result"
    }
   ],
   "source": [
    "val location_schema =\n",
    "    MapType(StringType,\n",
    "        new StructType()\n",
    "            .add(\"accuracy\", DoubleType)\n",
    "            .add(\"address\", StringType)\n",
    "            .add(\"altitude\", DoubleType)\n",
    "            .add(\"country\", StringType)\n",
    "            .add(\"latitude\", DoubleType)\n",
    "            .add(\"longitude\", DoubleType)\n",
    "            .add(\"provider\", StringType)\n",
    "            .add(\"timestamp\", \n",
    "             new StructType()\n",
    "                .add(\"date\", LongType)\n",
    "                .add(\"day\", LongType)\n",
    "                .add(\"hours\", LongType)\n",
    "                .add(\"minutes\", LongType)\n",
    "                .add(\"month\", LongType)\n",
    "                .add(\"nanos\", LongType)\n",
    "                .add(\"seconds\", LongType)\n",
    "                .add(\"time\", LongType)\n",
    "                .add(\"timezoneOffset\", LongType)\n",
    "                .add(\"year\", LongType)\n",
    "            )\n",
    "            .add(\"uid\", StringType)\n",
    "        )\n",
    "\n",
    "val schema = new StructType()\n",
    "    .add(\"locations\", location_schema)\n",
    "    .add(\"user-locations\",\n",
    "        MapType(StringType, location_schema)\n",
    "    )\n",
    "    .add(\"users\",\n",
    "        MapType(StringType,\n",
    "            new StructType()\n",
    "                .add(\"email\", StringType)\n",
    "                .add(\"username\", StringType)\n",
    "        )\n",
    "    )"
   ]
  },
  {
   "cell_type": "markdown",
   "metadata": {},
   "source": [
    "## Import JSON DB"
   ]
  },
  {
   "cell_type": "code",
   "execution_count": 6,
   "metadata": {},
   "outputs": [
    {
     "data": {
      "text/plain": [
       "df: org.apache.spark.sql.DataFrame = [locations: map<string,struct<accuracy:double,address:string,altitude:double,country:string,latitude:double,longitude:double,provider:string,timestamp:struct<date:bigint,day:bigint,hours:bigint,minutes:bigint,month:bigint,nanos:bigint,seconds:bigint,time:bigint,timezoneOffset:bigint,year:bigint>,uid:string>>, user-locations: map<string,map<string,struct<accuracy:double,address:string,altitude:double,country:string,latitude:double,longitude:double,provider:string,timestamp:struct<date:bigint,day:bigint,hours:bigint,minutes:bigint,month:bigint,nanos:bigint,seconds:bigint,time:bigint,timezoneOffset:bigint,year:bigint>,uid:string>>> ... 1 more field]\n"
      ]
     },
     "execution_count": 6,
     "metadata": {},
     "output_type": "execute_result"
    }
   ],
   "source": [
    "val df = spark.read.option(\"multiline\", true).schema(schema).json(\"trackme-sample-data.json\")"
   ]
  },
  {
   "cell_type": "code",
   "execution_count": 7,
   "metadata": {},
   "outputs": [
    {
     "name": "stdout",
     "output_type": "stream",
     "text": [
      "root\n",
      " |-- locations: map (nullable = true)\n",
      " |    |-- key: string\n",
      " |    |-- value: struct (valueContainsNull = true)\n",
      " |    |    |-- accuracy: double (nullable = true)\n",
      " |    |    |-- address: string (nullable = true)\n",
      " |    |    |-- altitude: double (nullable = true)\n",
      " |    |    |-- country: string (nullable = true)\n",
      " |    |    |-- latitude: double (nullable = true)\n",
      " |    |    |-- longitude: double (nullable = true)\n",
      " |    |    |-- provider: string (nullable = true)\n",
      " |    |    |-- timestamp: struct (nullable = true)\n",
      " |    |    |    |-- date: long (nullable = true)\n",
      " |    |    |    |-- day: long (nullable = true)\n",
      " |    |    |    |-- hours: long (nullable = true)\n",
      " |    |    |    |-- minutes: long (nullable = true)\n",
      " |    |    |    |-- month: long (nullable = true)\n",
      " |    |    |    |-- nanos: long (nullable = true)\n",
      " |    |    |    |-- seconds: long (nullable = true)\n",
      " |    |    |    |-- time: long (nullable = true)\n",
      " |    |    |    |-- timezoneOffset: long (nullable = true)\n",
      " |    |    |    |-- year: long (nullable = true)\n",
      " |    |    |-- uid: string (nullable = true)\n",
      " |-- user-locations: map (nullable = true)\n",
      " |    |-- key: string\n",
      " |    |-- value: map (valueContainsNull = true)\n",
      " |    |    |-- key: string\n",
      " |    |    |-- value: struct (valueContainsNull = true)\n",
      " |    |    |    |-- accuracy: double (nullable = true)\n",
      " |    |    |    |-- address: string (nullable = true)\n",
      " |    |    |    |-- altitude: double (nullable = true)\n",
      " |    |    |    |-- country: string (nullable = true)\n",
      " |    |    |    |-- latitude: double (nullable = true)\n",
      " |    |    |    |-- longitude: double (nullable = true)\n",
      " |    |    |    |-- provider: string (nullable = true)\n",
      " |    |    |    |-- timestamp: struct (nullable = true)\n",
      " |    |    |    |    |-- date: long (nullable = true)\n",
      " |    |    |    |    |-- day: long (nullable = true)\n",
      " |    |    |    |    |-- hours: long (nullable = true)\n",
      " |    |    |    |    |-- minutes: long (nullable = true)\n",
      " |    |    |    |    |-- month: long (nullable = true)\n",
      " |    |    |    |    |-- nanos: long (nullable = true)\n",
      " |    |    |    |    |-- seconds: long (nullable = true)\n",
      " |    |    |    |    |-- time: long (nullable = true)\n",
      " |    |    |    |    |-- timezoneOffset: long (nullable = true)\n",
      " |    |    |    |    |-- year: long (nullable = true)\n",
      " |    |    |    |-- uid: string (nullable = true)\n",
      " |-- users: map (nullable = true)\n",
      " |    |-- key: string\n",
      " |    |-- value: struct (valueContainsNull = true)\n",
      " |    |    |-- email: string (nullable = true)\n",
      " |    |    |-- username: string (nullable = true)\n",
      "\n"
     ]
    }
   ],
   "source": [
    "df.printSchema()"
   ]
  },
  {
   "cell_type": "markdown",
   "metadata": {},
   "source": [
    "## Breakdown raw DB into contextual structures"
   ]
  },
  {
   "cell_type": "code",
   "execution_count": 8,
   "metadata": {},
   "outputs": [
    {
     "data": {
      "text/plain": [
       "rawLocationsDF: org.apache.spark.sql.DataFrame = [timestamp_id: string, value: struct<accuracy: double, address: string ... 7 more fields>]\n",
       "rawUserLocationsDF: org.apache.spark.sql.DataFrame = [uid: string, timestamp: map<string,struct<accuracy:double,address:string,altitude:double,country:string,latitude:double,longitude:double,provider:string,timestamp:struct<date:bigint,day:bigint,hours:bigint,minutes:bigint,month:bigint,nanos:bigint,seconds:bigint,time:bigint,timezoneOffset:bigint,year:bigint>,uid:string>>]\n",
       "rawUsersDF: org.apache.spark.sql.DataFrame = [uid: string, user_attr: struct<email: string, username: string>]\n"
      ]
     },
     "execution_count": 8,
     "metadata": {},
     "output_type": "execute_result"
    }
   ],
   "source": [
    "val rawLocationsDF = df.select(explode($\"locations\") as Seq(\"timestamp_id\", \"value\"))\n",
    "val rawUserLocationsDF = df.select(explode($\"user-locations\") as Seq(\"uid\", \"timestamp\"))\n",
    "val rawUsersDF = df.select(explode($\"users\") as Seq(\"uid\", \"user_attr\"))"
   ]
  },
  {
   "cell_type": "code",
   "execution_count": 9,
   "metadata": {},
   "outputs": [
    {
     "name": "stdout",
     "output_type": "stream",
     "text": [
      "root\n",
      " |-- uid: string (nullable = false)\n",
      " |-- user_attr: struct (nullable = true)\n",
      " |    |-- email: string (nullable = true)\n",
      " |    |-- username: string (nullable = true)\n",
      "\n"
     ]
    }
   ],
   "source": [
    "rawUsersDF.printSchema()"
   ]
  },
  {
   "cell_type": "markdown",
   "metadata": {},
   "source": [
    "## Function to flatten schema"
   ]
  },
  {
   "cell_type": "code",
   "execution_count": 10,
   "metadata": {},
   "outputs": [
    {
     "data": {
      "text/plain": [
       "import org.apache.spark.sql.Column\n",
       "flattenSchema: (schema: org.apache.spark.sql.types.StructType, prefix: String)Array[org.apache.spark.sql.Column]\n"
      ]
     },
     "execution_count": 10,
     "metadata": {},
     "output_type": "execute_result"
    }
   ],
   "source": [
    "import org.apache.spark.sql.Column\n",
    "\n",
    "def flattenSchema(schema: StructType, prefix: String = null) : Array[Column] = {\n",
    "  schema.fields.flatMap(f => {\n",
    "    val colName = if (prefix == null) f.name else (prefix + \".\" + f.name)\n",
    "\n",
    "    f.dataType match {\n",
    "      case st: StructType => flattenSchema(st, colName)\n",
    "      case _ => Array(col(colName))\n",
    "    }\n",
    "  })\n",
    "}"
   ]
  },
  {
   "cell_type": "markdown",
   "metadata": {},
   "source": [
    "## Flat struct DataFrames"
   ]
  },
  {
   "cell_type": "code",
   "execution_count": 11,
   "metadata": {},
   "outputs": [
    {
     "data": {
      "text/plain": [
       "locationsDF: org.apache.spark.sql.DataFrame = [timestamp_id: string, accuracy: double ... 17 more fields]\n",
       "userLocationsDF: org.apache.spark.sql.DataFrame = [uid: string, timestamp: map<string,struct<accuracy:double,address:string,altitude:double,country:string,latitude:double,longitude:double,provider:string,timestamp:struct<date:bigint,day:bigint,hours:bigint,minutes:bigint,month:bigint,nanos:bigint,seconds:bigint,time:bigint,timezoneOffset:bigint,year:bigint>,uid:string>>]\n",
       "usersDF: org.apache.spark.sql.DataFrame = [uid: string, email: string ... 1 more field]\n"
      ]
     },
     "execution_count": 11,
     "metadata": {},
     "output_type": "execute_result"
    }
   ],
   "source": [
    "val locationsDF = rawLocationsDF.select(flattenSchema(rawLocationsDF.schema):_*)\n",
    "val userLocationsDF = rawUserLocationsDF.select(flattenSchema(rawUserLocationsDF.schema):_*)\n",
    "val usersDF = rawUsersDF.select(flattenSchema(rawUsersDF.schema):_*)"
   ]
  },
  {
   "cell_type": "code",
   "execution_count": 12,
   "metadata": {},
   "outputs": [
    {
     "name": "stdout",
     "output_type": "stream",
     "text": [
      "root\n",
      " |-- timestamp_id: string (nullable = false)\n",
      " |-- accuracy: double (nullable = true)\n",
      " |-- address: string (nullable = true)\n",
      " |-- altitude: double (nullable = true)\n",
      " |-- country: string (nullable = true)\n",
      " |-- latitude: double (nullable = true)\n",
      " |-- longitude: double (nullable = true)\n",
      " |-- provider: string (nullable = true)\n",
      " |-- date: long (nullable = true)\n",
      " |-- day: long (nullable = true)\n",
      " |-- hours: long (nullable = true)\n",
      " |-- minutes: long (nullable = true)\n",
      " |-- month: long (nullable = true)\n",
      " |-- nanos: long (nullable = true)\n",
      " |-- seconds: long (nullable = true)\n",
      " |-- time: long (nullable = true)\n",
      " |-- timezoneOffset: long (nullable = true)\n",
      " |-- year: long (nullable = true)\n",
      " |-- uid: string (nullable = true)\n",
      "\n"
     ]
    }
   ],
   "source": [
    "locationsDF.printSchema()"
   ]
  },
  {
   "cell_type": "code",
   "execution_count": 13,
   "metadata": {},
   "outputs": [
    {
     "name": "stdout",
     "output_type": "stream",
     "text": [
      "[1602119776824,15.666000366210938,R. Mena Barreto, 182 - Botafogo, Rio de Janeiro - RJ, 22271-100, Brazil,14.90000057220459,Brazil,-22.9556468,-43.1880249,fused,7,3,22,16,9,824000000,16,1602119776824,180,120,H5LG3vN3jcPlcbJ2A5RGo6H4AHw2]\n",
      "[1602119934507,15.967000007629395,R. Mena Barreto, 182 - Botafogo, Rio de Janeiro - RJ, 22271-100, Brazil,15.300000190734863,Brazil,-22.9556367,-43.1880211,fused,7,3,22,18,9,507000000,54,1602119934507,180,120,H5LG3vN3jcPlcbJ2A5RGo6H4AHw2]\n"
     ]
    }
   ],
   "source": [
    "locationsDF.take(2).foreach(println)"
   ]
  },
  {
   "cell_type": "code",
   "execution_count": 14,
   "metadata": {},
   "outputs": [
    {
     "name": "stdout",
     "output_type": "stream",
     "text": [
      "[5Jf44SGWhzZmxsZs7n6KLzrHark1,rodrigomesquita0@gmail.com,rodrigomesquita0]\n",
      "[BHNpkg1LH2Sna0axjb8pFWDIycD2,vivian.lopesg@gmail.com,vivian.lopesg]\n"
     ]
    }
   ],
   "source": [
    "usersDF.take(2).foreach(println)"
   ]
  },
  {
   "cell_type": "markdown",
   "metadata": {},
   "source": [
    "## Create timestamp formatted column"
   ]
  },
  {
   "cell_type": "code",
   "execution_count": 15,
   "metadata": {},
   "outputs": [
    {
     "data": {
      "text/plain": [
       "locationsWithDateDF: org.apache.spark.sql.DataFrame = [timestamp_id: string, accuracy: double ... 18 more fields]\n"
      ]
     },
     "execution_count": 15,
     "metadata": {},
     "output_type": "execute_result"
    }
   ],
   "source": [
    "val locationsWithDateDF = locationsDF.withColumn(\"ts_date\", (col(\"timestamp_id\")/1000).cast(TimestampType))"
   ]
  },
  {
   "cell_type": "code",
   "execution_count": 53,
   "metadata": {},
   "outputs": [
    {
     "data": {
      "text/plain": [
       "joinExpression: org.apache.spark.sql.Column = (uid = uid)\n",
       "joinType: String = inner\n",
       "locWithDateJoinUserDF: org.apache.spark.sql.Dataset[org.apache.spark.sql.Row] = [timestamp_id: string, accuracy: double ... 20 more fields]\n"
      ]
     },
     "execution_count": 53,
     "metadata": {},
     "output_type": "execute_result"
    }
   ],
   "source": [
    "val joinExpression = locationsWithDateDF.col(\"uid\") === usersDF.col(\"uid\")\n",
    "var joinType = \"inner\"\n",
    "val locWithDateJoinUserDF = locationsWithDateDF.join(usersDF, joinExpression, joinType).drop(usersDF.col(\"uid\")).orderBy($\"timestamp_id\")"
   ]
  },
  {
   "cell_type": "markdown",
   "metadata": {},
   "source": [
    "## Function for distance calculation based on lat/long"
   ]
  },
  {
   "cell_type": "markdown",
   "metadata": {},
   "source": [
    "### Element version - calculate_distance_elem"
   ]
  },
  {
   "cell_type": "code",
   "execution_count": 34,
   "metadata": {},
   "outputs": [
    {
     "data": {
      "text/plain": [
       "import scala.math._\n",
       "calculate_distance_elem: (lat1: Double, lon1: Double, lat2: Double, lon2: Double)Double\n",
       "calculate_distance_elem_sqlfunc: org.apache.spark.sql.expressions.UserDefinedFunction = SparkUserDefinedFunction($Lambda$4685/1815336486@62f26861,DoubleType,List(Some(class[value[0]: double]), Some(class[value[0]: double]), Some(class[value[0]: double]), Some(class[value[0]: double])),None,false,true)\n"
      ]
     },
     "execution_count": 34,
     "metadata": {},
     "output_type": "execute_result"
    }
   ],
   "source": [
    "import scala.math._\n",
    "\n",
    "def calculate_distance_elem(lat1:Double, lon1:Double, lat2:Double, lon2:Double):Double = {   \n",
    "    val earth_radius = 6371e3;           // meters\n",
    "    val phi1 = lat1 * Pi/180;                  // radians\n",
    "    val phi2 = lat2 * Pi/180;                  // radians\n",
    "    val delta_phi = phi2 - phi1;               // radians\n",
    "\n",
    "    val delta_lampda = (lon2 - lon1) * Pi/180; // radians\n",
    "\n",
    "    val a = sin(delta_phi/2)*sin(delta_phi/2) + cos(phi1)*cos(phi2)*sin(delta_lampda/2)*sin(delta_lampda/2);\n",
    "    val c = 2*atan2(sqrt(a), sqrt(1-a));\n",
    "\n",
    "    val d = earth_radius*c; // meters\n",
    "    \n",
    "    return d\n",
    "}\n",
    "\n",
    "val calculate_distance_elem_sqlfunc = udf(calculate_distance_elem(_,_,_,_))"
   ]
  },
  {
   "cell_type": "markdown",
   "metadata": {},
   "source": [
    "### Test - calculate_distance_elem"
   ]
  },
  {
   "cell_type": "code",
   "execution_count": 13,
   "metadata": {},
   "outputs": [
    {
     "ename": "<console>",
     "evalue": "43: error: not found: value calculate_distance_elem",
     "output_type": "error",
     "traceback": [
      "<console>:43: error: not found: value calculate_distance_elem",
      "       val dist = calculate_distance_elem(lat1, lon1, lat2, lon2)",
      "                  ^",
      ""
     ]
    }
   ],
   "source": [
    "val lat1 = -22.9556473\n",
    "val lon1 = -43.1881019\n",
    "\n",
    "val lat2 = -23.9556473\n",
    "val lon2 = -44.1881019\n",
    "\n",
    "val dist = calculate_distance_elem(lat1, lon1, lat2, lon2)\n",
    "\n",
    "assert (dist == 150894.75616346067)"
   ]
  },
  {
   "cell_type": "markdown",
   "metadata": {},
   "source": [
    "### Column version"
   ]
  },
  {
   "cell_type": "code",
   "execution_count": 66,
   "metadata": {},
   "outputs": [
    {
     "data": {
      "text/plain": [
       "import scala.math.Pi\n",
       "import org.apache.spark.sql.functions._\n",
       "calculate_distance_col: (lat1: org.apache.spark.sql.Column, lon1: org.apache.spark.sql.Column, lat2: org.apache.spark.sql.Column, lon2: org.apache.spark.sql.Column)org.apache.spark.sql.Column\n"
      ]
     },
     "execution_count": 66,
     "metadata": {},
     "output_type": "execute_result"
    }
   ],
   "source": [
    "import scala.math.Pi\n",
    "import org.apache.spark.sql.functions._\n",
    "\n",
    "def calculate_distance_col(lat1:org.apache.spark.sql.Column, lon1:org.apache.spark.sql.Column, lat2:org.apache.spark.sql.Column, lon2:org.apache.spark.sql.Column):org.apache.spark.sql.Column = {   \n",
    "    val earth_radius = 6371e3;           // meters\n",
    "    val pi_over_180 = lit(Pi/180);\n",
    "    val phi1 = lat1 * pi_over_180;                  // radians\n",
    "    val phi2 = lat2 * pi_over_180;                  // radians\n",
    "    val delta_phi = phi2 - phi1;               // radians\n",
    "\n",
    "    val delta_lampda = (lon2 - lon1) * pi_over_180; // radians\n",
    "\n",
    "    val a = sin(delta_phi/2)*sin(delta_phi/2) + cos(phi1)*cos(phi2)*sin(delta_lampda/2)*sin(delta_lampda/2);\n",
    "    val c = lit(2)*atan2(sqrt(a), sqrt(lit(1)-a));\n",
    "\n",
    "    val d = lit(earth_radius)*c; // meters\n",
    "    \n",
    "    return d;\n",
    "}\n",
    "\n",
    "// val calculate_distance_sqlfunc = udf(calculate_distance(_,_,_,_))"
   ]
  },
  {
   "cell_type": "markdown",
   "metadata": {},
   "source": [
    "## Calculate distance"
   ]
  },
  {
   "cell_type": "code",
   "execution_count": 17,
   "metadata": {},
   "outputs": [
    {
     "data": {
      "text/plain": [
       "import org.apache.spark.sql.expressions.Window\n"
      ]
     },
     "execution_count": 17,
     "metadata": {},
     "output_type": "execute_result"
    }
   ],
   "source": [
    "import org.apache.spark.sql.expressions.Window"
   ]
  },
  {
   "cell_type": "code",
   "execution_count": 18,
   "metadata": {},
   "outputs": [
    {
     "data": {
      "text/plain": [
       "lat_col: org.apache.spark.sql.expressions.WindowSpec = org.apache.spark.sql.expressions.WindowSpec@64215d29\n",
       "lon_col: org.apache.spark.sql.expressions.WindowSpec = org.apache.spark.sql.expressions.WindowSpec@45e12d4e\n",
       "lat2: org.apache.spark.sql.Column = latitude\n",
       "lat1: org.apache.spark.sql.Column = lag(latitude, 1, NULL) OVER (ORDER BY timestamp_id ASC NULLS FIRST unspecifiedframe$())\n",
       "lon2: org.apache.spark.sql.Column = longitude\n",
       "lon1: org.apache.spark.sql.Column = lag(longitude, 1, NULL) OVER (ORDER BY timestamp_id ASC NULLS FIRST unspecifiedframe$())\n"
      ]
     },
     "execution_count": 18,
     "metadata": {},
     "output_type": "execute_result"
    }
   ],
   "source": [
    "// val lat_col = Window.partitionBy(\"latitude\").orderBy($\"timestamp_id\".asc)\n",
    "// val lon_col = Window.partitionBy(\"longitude\").orderBy($\"timestamp_id\".asc)\n",
    "val lat_col = Window.orderBy($\"timestamp_id\".asc)\n",
    "val lon_col = Window.orderBy($\"timestamp_id\".asc)\n",
    "\n",
    "val lat2 = col(\"latitude\")\n",
    "val lat1 = lag(\"latitude\", 1).over(lat_col)\n",
    "// val lat1 = when((lag(\"latitude\", 1).over(lat_col)).isNotNull, lag(\"latitude\", 1).over(lat_col)).otherwise(0)\n",
    "\n",
    "val lon2 = col(\"longitude\")\n",
    "val lon1 = lag(\"longitude\", 1).over(lat_col)\n",
    "// val lon1 = when((lag(\"longitude\", 1).over(lon_col)).isNotNull, lag(\"longitude\", 1).over(lon_col)).otherwise(0)"
   ]
  },
  {
   "cell_type": "code",
   "execution_count": 55,
   "metadata": {},
   "outputs": [
    {
     "name": "stdout",
     "output_type": "stream",
     "text": [
      "+-------------+------------------+--------------------------------------------------------------------------+------------------+-------+-----------+-----------+--------+----+---+-----+-------+-----+---------+-------+-------------+--------------+----+----------------------------+-----------------------+-------------------------+---------------+\n",
      "|timestamp_id |accuracy          |address                                                                   |altitude          |country|latitude   |longitude  |provider|date|day|hours|minutes|month|nanos    |seconds|time         |timezoneOffset|year|uid                         |ts_date                |email                    |username       |\n",
      "+-------------+------------------+--------------------------------------------------------------------------+------------------+-------+-----------+-----------+--------+----+---+-----+-------+-----+---------+-------+-------------+--------------+----+----------------------------+-----------------------+-------------------------+---------------+\n",
      "|1602124371945|14.199000358581543|R. Tôrres Homem, 538 - Vila Isabel, Rio de Janeiro - RJ, 20551-070, Brasil|19.200000762939453|Brasil |-22.9143424|-43.2479267|fused   |7   |3  |23   |32     |9    |945000000|51     |1602124371945|180           |120 |PgXtDvjeJQgc6FzN98KueShvEMa2|2020-10-07 23:32:51.945|viniciusmgaspar@gmail.com|viniciusmgaspar|\n",
      "|1602124491961|13.723999977111816|R. Tôrres Homem, 538 - Vila Isabel, Rio de Janeiro - RJ, 20551-070, Brasil|17.0              |Brasil |-22.9143476|-43.2479225|fused   |7   |3  |23   |34     |9    |961000000|51     |1602124491961|180           |120 |PgXtDvjeJQgc6FzN98KueShvEMa2|2020-10-07 23:34:51.961|viniciusmgaspar@gmail.com|viniciusmgaspar|\n",
      "|1602124616689|14.432000160217285|R. Tôrres Homem, 545 - Vila Isabel, Rio de Janeiro - RJ, 20551-070, Brasil|19.200000762939453|Brasil |-22.9143736|-43.2479302|fused   |7   |3  |23   |36     |9    |689000000|56     |1602124616689|180           |120 |PgXtDvjeJQgc6FzN98KueShvEMa2|2020-10-07 23:36:56.689|viniciusmgaspar@gmail.com|viniciusmgaspar|\n",
      "|1602124677042|14.432000160217285|R. Tôrres Homem, 545 - Vila Isabel, Rio de Janeiro - RJ, 20551-070, Brasil|19.200000762939453|Brasil |-22.9143736|-43.2479302|fused   |7   |3  |23   |37     |9    |42000000 |57     |1602124677042|180           |120 |PgXtDvjeJQgc6FzN98KueShvEMa2|2020-10-07 23:37:57.042|viniciusmgaspar@gmail.com|viniciusmgaspar|\n",
      "|1602124737116|14.432000160217285|R. Tôrres Homem, 545 - Vila Isabel, Rio de Janeiro - RJ, 20551-070, Brasil|19.200000762939453|Brasil |-22.9143736|-43.2479302|fused   |7   |3  |23   |38     |9    |116000000|57     |1602124737116|180           |120 |PgXtDvjeJQgc6FzN98KueShvEMa2|2020-10-07 23:38:57.116|viniciusmgaspar@gmail.com|viniciusmgaspar|\n",
      "+-------------+------------------+--------------------------------------------------------------------------+------------------+-------+-----------+-----------+--------+----+---+-----+-------+-----+---------+-------+-------------+--------------+----+----------------------------+-----------------------+-------------------------+---------------+\n",
      "only showing top 5 rows\n",
      "\n"
     ]
    },
    {
     "data": {
      "text/plain": [
       "emails: String = viniciusmgaspar@gmail.com\n",
       "joinExpression: org.apache.spark.sql.Column = (uid = uid)\n",
       "joinType: String = inner\n",
       "locationsWithDatePerUserDF: org.apache.spark.sql.Dataset[org.apache.spark.sql.Row] = [timestamp_id: string, accuracy: double ... 20 more fields]\n",
       "locDatePerUserDistDF: org.apache.spark.sql.DataFrame = [timestamp_id: string, accuracy: double ... 21 more fields]\n"
      ]
     },
     "execution_count": 55,
     "metadata": {},
     "output_type": "execute_result"
    }
   ],
   "source": [
    "val emails = \"viniciusmgaspar@gmail.com\"\n",
    "\n",
    "val joinExpression = locationsWithDateDF.col(\"uid\") === usersDF.col(\"uid\")\n",
    "var joinType = \"inner\"\n",
    "val locationsWithDatePerUserDF = locationsWithDateDF.join(usersDF, joinExpression, joinType).drop(usersDF.col(\"uid\")).filter($\"Email\" === emails).orderBy($\"timestamp_id\")\n",
    "\n",
    "locationsWithDatePerUserDF.show(5,false)\n",
    "\n",
    "val locDatePerUserDistDF = locationsWithDatePerUserDF.withColumn(\"distance\", when(calculate_distance_col(lat1, lon1, lat2, lon2).isNotNull,calculate_distance_col(lat1, lon1, lat2, lon2)).otherwise(0.0))"
   ]
  },
  {
   "cell_type": "markdown",
   "metadata": {},
   "source": [
    "# Show walked distance"
   ]
  },
  {
   "cell_type": "code",
   "execution_count": 30,
   "metadata": {},
   "outputs": [
    {
     "name": "stdout",
     "output_type": "stream",
     "text": [
      "+---------------+-----------------------+-----------+-----------+------------------+\n",
      "|username       |ts_date                |latitude   |longitude  |distance          |\n",
      "+---------------+-----------------------+-----------+-----------+------------------+\n",
      "|viniciusmgaspar|2020-10-07 23:32:51.945|-22.9143424|-43.2479267|0.0               |\n",
      "|viniciusmgaspar|2020-10-07 23:34:51.961|-22.9143476|-43.2479225|0.720675492840136 |\n",
      "|viniciusmgaspar|2020-10-07 23:36:56.689|-22.9143736|-43.2479302|2.9967018357873862|\n",
      "|viniciusmgaspar|2020-10-07 23:37:57.042|-22.9143736|-43.2479302|0.0               |\n",
      "|viniciusmgaspar|2020-10-07 23:38:57.116|-22.9143736|-43.2479302|0.0               |\n",
      "|viniciusmgaspar|2020-10-07 23:40:02.011|-22.914351 |-43.247925 |2.5688213633650445|\n",
      "|viniciusmgaspar|2020-10-07 23:41:02.089|-22.914351 |-43.247925 |0.0               |\n",
      "|viniciusmgaspar|2020-10-07 23:42:09.072|-22.9143672|-43.2479284|1.8347079899956038|\n",
      "|viniciusmgaspar|2020-10-07 23:43:09.149|-22.9143672|-43.2479284|0.0               |\n",
      "|viniciusmgaspar|2020-10-07 23:44:10.298|-22.9143608|-43.2479235|0.8708071547226146|\n",
      "|viniciusmgaspar|2020-10-07 23:45:10.37 |-22.9143608|-43.2479235|0.0               |\n",
      "|viniciusmgaspar|2020-10-07 23:46:20.77 |-22.9143608|-43.2479235|0.0               |\n",
      "|viniciusmgaspar|2020-10-07 23:47:20.86 |-22.9143608|-43.2479235|0.0               |\n",
      "|viniciusmgaspar|2020-10-07 23:48:26.977|-22.9143612|-43.2479639|4.138018973396575 |\n",
      "|viniciusmgaspar|2020-10-07 23:49:33.323|-22.914376 |-43.2479024|6.510281292123442 |\n",
      "|viniciusmgaspar|2020-10-07 23:50:33.676|-22.914376 |-43.2479024|0.0               |\n",
      "|viniciusmgaspar|2020-10-07 23:51:33.654|-22.9143854|-43.2478801|2.5117802113336802|\n",
      "|viniciusmgaspar|2020-10-07 23:52:33.892|-22.9143854|-43.2478801|0.0               |\n",
      "|viniciusmgaspar|2020-10-07 23:53:33.964|-22.9143854|-43.2478801|0.0               |\n",
      "|viniciusmgaspar|2020-10-07 23:54:34.786|-22.9143797|-43.2478934|1.5024238063887392|\n",
      "+---------------+-----------------------+-----------+-----------+------------------+\n",
      "only showing top 20 rows\n",
      "\n"
     ]
    }
   ],
   "source": [
    "locDatePerUserDistDF.orderBy($\"ts_date\".asc)\n",
    ".select(\"username\",\"ts_date\",\"latitude\",\"longitude\",\"distance\")\n",
    "    .show(false)"
   ]
  },
  {
   "cell_type": "markdown",
   "metadata": {},
   "source": [
    "## Walked distance per day"
   ]
  },
  {
   "cell_type": "code",
   "execution_count": 40,
   "metadata": {},
   "outputs": [
    {
     "name": "stdout",
     "output_type": "stream",
     "text": [
      "+-------------------------+----------+------------------+\n",
      "|email                    |date      |sum(distance)     |\n",
      "+-------------------------+----------+------------------+\n",
      "|viniciusmgaspar@gmail.com|07-10-2020|27.519468577232455|\n",
      "|viniciusmgaspar@gmail.com|08-10-2020|27236.48613099252 |\n",
      "|viniciusmgaspar@gmail.com|09-10-2020|9797.745650086414 |\n",
      "+-------------------------+----------+------------------+\n",
      "\n"
     ]
    }
   ],
   "source": [
    "locDatePerUserDistDF.groupBy($\"email\",date_format(col(\"ts_date\"),\"dd-MM-yyyy\").as(\"date\")).sum(\"distance\").orderBy($\"email\".asc, $\"date\".asc)\n",
    ".show(false)"
   ]
  },
  {
   "cell_type": "markdown",
   "metadata": {},
   "source": [
    "## For writing SQL syntax"
   ]
  },
  {
   "cell_type": "code",
   "execution_count": 39,
   "metadata": {
    "scrolled": true
   },
   "outputs": [
    {
     "name": "stdout",
     "output_type": "stream",
     "text": [
      "+-------------+------------------+--------------------+------------------+-------+-----------+-----------+--------+----+---+-----+-------+-----+---------+-------+-------------+--------------+----+--------------------+--------------------+--------------------+---------------+------------------+\n",
      "| timestamp_id|          accuracy|             address|          altitude|country|   latitude|  longitude|provider|date|day|hours|minutes|month|    nanos|seconds|         time|timezoneOffset|year|                 uid|             ts_date|               email|       username|          distance|\n",
      "+-------------+------------------+--------------------+------------------+-------+-----------+-----------+--------+----+---+-----+-------+-----+---------+-------+-------------+--------------+----+--------------------+--------------------+--------------------+---------------+------------------+\n",
      "|1602124371945|14.199000358581543|R. Tôrres Homem, ...|19.200000762939453| Brasil|-22.9143424|-43.2479267|   fused|   7|  3|   23|     32|    9|945000000|     51|1602124371945|           180| 120|PgXtDvjeJQgc6FzN9...|2020-10-07 23:32:...|viniciusmgaspar@g...|viniciusmgaspar|               0.0|\n",
      "|1602124491961|13.723999977111816|R. Tôrres Homem, ...|              17.0| Brasil|-22.9143476|-43.2479225|   fused|   7|  3|   23|     34|    9|961000000|     51|1602124491961|           180| 120|PgXtDvjeJQgc6FzN9...|2020-10-07 23:34:...|viniciusmgaspar@g...|viniciusmgaspar| 0.720675492840136|\n",
      "|1602124616689|14.432000160217285|R. Tôrres Homem, ...|19.200000762939453| Brasil|-22.9143736|-43.2479302|   fused|   7|  3|   23|     36|    9|689000000|     56|1602124616689|           180| 120|PgXtDvjeJQgc6FzN9...|2020-10-07 23:36:...|viniciusmgaspar@g...|viniciusmgaspar|2.9967018357873862|\n",
      "|1602124677042|14.432000160217285|R. Tôrres Homem, ...|19.200000762939453| Brasil|-22.9143736|-43.2479302|   fused|   7|  3|   23|     37|    9| 42000000|     57|1602124677042|           180| 120|PgXtDvjeJQgc6FzN9...|2020-10-07 23:37:...|viniciusmgaspar@g...|viniciusmgaspar|               0.0|\n",
      "|1602124737116|14.432000160217285|R. Tôrres Homem, ...|19.200000762939453| Brasil|-22.9143736|-43.2479302|   fused|   7|  3|   23|     38|    9|116000000|     57|1602124737116|           180| 120|PgXtDvjeJQgc6FzN9...|2020-10-07 23:38:...|viniciusmgaspar@g...|viniciusmgaspar|               0.0|\n",
      "|1602124802011| 15.61299991607666|R. Tôrres Homem, ...|27.100000381469727| Brasil| -22.914351| -43.247925|   fused|   7|  3|   23|     40|    9| 11000000|      2|1602124802011|           180| 120|PgXtDvjeJQgc6FzN9...|2020-10-07 23:40:...|viniciusmgaspar@g...|viniciusmgaspar|2.5688213633650445|\n",
      "|1602124862089| 15.61299991607666|R. Tôrres Homem, ...|27.100000381469727| Brasil| -22.914351| -43.247925|   fused|   7|  3|   23|     41|    9| 89000000|      2|1602124862089|           180| 120|PgXtDvjeJQgc6FzN9...|2020-10-07 23:41:...|viniciusmgaspar@g...|viniciusmgaspar|               0.0|\n",
      "|1602124929072| 14.53600025177002|R. Tôrres Homem, ...|19.200000762939453| Brasil|-22.9143672|-43.2479284|   fused|   7|  3|   23|     42|    9| 72000000|      9|1602124929072|           180| 120|PgXtDvjeJQgc6FzN9...|2020-10-07 23:42:...|viniciusmgaspar@g...|viniciusmgaspar|1.8347079899956038|\n",
      "|1602124989149| 14.53600025177002|R. Tôrres Homem, ...|19.200000762939453| Brasil|-22.9143672|-43.2479284|   fused|   7|  3|   23|     43|    9|149000000|      9|1602124989149|           180| 120|PgXtDvjeJQgc6FzN9...|2020-10-07 23:43:...|viniciusmgaspar@g...|viniciusmgaspar|               0.0|\n",
      "|1602125050298|15.727999687194824|R. Tôrres Homem, ...|27.100000381469727| Brasil|-22.9143608|-43.2479235|   fused|   7|  3|   23|     44|    9|298000000|     10|1602125050298|           180| 120|PgXtDvjeJQgc6FzN9...|2020-10-07 23:44:...|viniciusmgaspar@g...|viniciusmgaspar|0.8708071547226146|\n",
      "|1602125110370|15.727999687194824|R. Tôrres Homem, ...|27.100000381469727| Brasil|-22.9143608|-43.2479235|   fused|   7|  3|   23|     45|    9|370000000|     10|1602125110370|           180| 120|PgXtDvjeJQgc6FzN9...|2020-10-07 23:45:...|viniciusmgaspar@g...|viniciusmgaspar|               0.0|\n",
      "|1602125180770|15.727999687194824|R. Tôrres Homem, ...|27.100000381469727| Brasil|-22.9143608|-43.2479235|   fused|   7|  3|   23|     46|    9|770000000|     20|1602125180770|           180| 120|PgXtDvjeJQgc6FzN9...|2020-10-07 23:46:...|viniciusmgaspar@g...|viniciusmgaspar|               0.0|\n",
      "|1602125240860|15.727999687194824|R. Tôrres Homem, ...|27.100000381469727| Brasil|-22.9143608|-43.2479235|   fused|   7|  3|   23|     47|    9|860000000|     20|1602125240860|           180| 120|PgXtDvjeJQgc6FzN9...|2020-10-07 23:47:...|viniciusmgaspar@g...|viniciusmgaspar|               0.0|\n",
      "|1602125306977|14.163999557495117|R. Tôrres Homem, ...|              17.0| Brasil|-22.9143612|-43.2479639|   fused|   7|  3|   23|     48|    9|977000000|     26|1602125306977|           180| 120|PgXtDvjeJQgc6FzN9...|2020-10-07 23:48:...|viniciusmgaspar@g...|viniciusmgaspar| 4.138018973396575|\n",
      "|1602125373323|15.175999641418457|R. Tôrres Homem, ...| 19.80000114440918| Brasil| -22.914376|-43.2479024|   fused|   7|  3|   23|     49|    9|323000000|     33|1602125373323|           180| 120|PgXtDvjeJQgc6FzN9...|2020-10-07 23:49:...|viniciusmgaspar@g...|viniciusmgaspar| 6.510281292123442|\n",
      "|1602125433676|15.175999641418457|R. Tôrres Homem, ...| 19.80000114440918| Brasil| -22.914376|-43.2479024|   fused|   7|  3|   23|     50|    9|676000000|     33|1602125433676|           180| 120|PgXtDvjeJQgc6FzN9...|2020-10-07 23:50:...|viniciusmgaspar@g...|viniciusmgaspar|               0.0|\n",
      "|1602125493654|17.315000534057617|R. Tôrres Homem, ...|27.100000381469727| Brasil|-22.9143854|-43.2478801|   fused|   7|  3|   23|     51|    9|654000000|     33|1602125493654|           180| 120|PgXtDvjeJQgc6FzN9...|2020-10-07 23:51:...|viniciusmgaspar@g...|viniciusmgaspar|2.5117802113336802|\n",
      "|1602125553892|17.315000534057617|R. Tôrres Homem, ...|27.100000381469727| Brasil|-22.9143854|-43.2478801|   fused|   7|  3|   23|     52|    9|892000000|     33|1602125553892|           180| 120|PgXtDvjeJQgc6FzN9...|2020-10-07 23:52:...|viniciusmgaspar@g...|viniciusmgaspar|               0.0|\n",
      "|1602125613964|17.315000534057617|R. Tôrres Homem, ...|27.100000381469727| Brasil|-22.9143854|-43.2478801|   fused|   7|  3|   23|     53|    9|964000000|     33|1602125613964|           180| 120|PgXtDvjeJQgc6FzN9...|2020-10-07 23:53:...|viniciusmgaspar@g...|viniciusmgaspar|               0.0|\n",
      "|1602125674786|15.434000015258789|R. Tôrres Homem, ...|27.100000381469727| Brasil|-22.9143797|-43.2478934|   fused|   7|  3|   23|     54|    9|786000000|     34|1602125674786|           180| 120|PgXtDvjeJQgc6FzN9...|2020-10-07 23:54:...|viniciusmgaspar@g...|viniciusmgaspar|1.5024238063887392|\n",
      "+-------------+------------------+--------------------+------------------+-------+-----------+-----------+--------+----+---+-----+-------+-----+---------+-------+-------------+--------------+----+--------------------+--------------------+--------------------+---------------+------------------+\n",
      "only showing top 20 rows\n",
      "\n"
     ]
    },
    {
     "data": {
      "text/plain": [
       "sqlDF: org.apache.spark.sql.DataFrame = [timestamp_id: string, accuracy: double ... 21 more fields]\n"
      ]
     },
     "execution_count": 39,
     "metadata": {},
     "output_type": "execute_result"
    }
   ],
   "source": [
    "// Register the DataFrame as a SQL temporary view\n",
    "locDatePerUserDistDF.createOrReplaceTempView(\"locationsSQL\")\n",
    "\n",
    "val sqlDF = spark.sql(\"SELECT * FROM locationsSQL\")\n",
    "sqlDF.show()"
   ]
  },
  {
   "cell_type": "markdown",
   "metadata": {},
   "source": [
    "## Usage of reduceByKey to sum up values"
   ]
  },
  {
   "cell_type": "code",
   "execution_count": 1,
   "metadata": {},
   "outputs": [
    {
     "data": {
      "text/plain": [
       "Intitializing Scala interpreter ..."
      ]
     },
     "metadata": {},
     "output_type": "display_data"
    },
    {
     "data": {
      "text/plain": [
       "Spark Web UI available at http://cln-rio-06:4041\n",
       "SparkContext available as 'sc' (version = 3.0.1, master = local[*], app id = local-1602515908080)\n",
       "SparkSession available as 'spark'\n"
      ]
     },
     "metadata": {},
     "output_type": "display_data"
    },
    {
     "ename": "<console>",
     "evalue": "24: error: not found: value flatLocationsWithDistDF",
     "output_type": "error",
     "traceback": [
      "<console>:24: error: not found: value flatLocationsWithDistDF",
      "       val userReducedDistance = flatLocationsWithDistDF.reduceByKey((v1,v2) => v1 + v2)",
      "                                 ^",
      ""
     ]
    }
   ],
   "source": [
    "// val userReducedDistance = flatLocationsWithDistDF.filte().filter().reduceByKey((v1,v2) => v1 + v2)"
   ]
  },
  {
   "cell_type": "markdown",
   "metadata": {},
   "source": [
    "## Distance Between Two People"
   ]
  },
  {
   "cell_type": "code",
   "execution_count": null,
   "metadata": {},
   "outputs": [],
   "source": [
    "val emails = \"wallace.mendes.rj@gmail.com\"\n",
    "\n",
    "val joinExpression = flatLocationsDF.col(\"uid\") === flatUsersDF.col(\"uid\")\n",
    "var joinType = \"inner\"\n",
    "val consultaFinal = flatLocationsDF.join(flatUsersDF, joinExpression, joinType).drop(flatUsersDF.col(\"uid\"))//.filter($\"Email\" === emails).orderBy($\"timestamp_id\")\n",
    "\n",
    "consultaFinal.show(5,false)\n",
    "\n",
    "val flatLocationsWithDistDF = consultaFinal.withColumn(\"distance\", when(calculate_distance_col(lat1, lon1, lat2, lon2).isNotNull,calculate_distance_col(lat1, lon1, lat2, lon2)).otherwise(0.0)).withColumn(\"data\", to_date((col(\"timestamp_id\")/1000).cast(TimestampType)))\n",
    "    .withColumn(\"data_hora\", (col(\"timestamp_id\")/1000).cast(TimestampType))"
   ]
  },
  {
   "cell_type": "code",
   "execution_count": 67,
   "metadata": {},
   "outputs": [
    {
     "name": "stdout",
     "output_type": "stream",
     "text": [
      "+-------------+------------------+--------------------+------------------+-------+-----------+-----------+--------+----+---+-----+-------+-----+---------+-------+-------------+--------------+----+--------------------+--------------------+--------------------+----------------+\n",
      "| timestamp_id|          accuracy|             address|          altitude|country|   latitude|  longitude|provider|date|day|hours|minutes|month|    nanos|seconds|         time|timezoneOffset|year|                 uid|             ts_date|               email|        username|\n",
      "+-------------+------------------+--------------------+------------------+-------+-----------+-----------+--------+----+---+-----+-------+-----+---------+-------+-------------+--------------+----+--------------------+--------------------+--------------------+----------------+\n",
      "|1602119776824|15.666000366210938|R. Mena Barreto, ...| 14.90000057220459| Brazil|-22.9556468|-43.1880249|   fused|   7|  3|   22|     16|    9|824000000|     16|1602119776824|           180| 120|H5LG3vN3jcPlcbJ2A...|2020-10-07 22:16:...|henrique.mageste@...|henrique.mageste|\n",
      "|1602119934507|15.967000007629395|R. Mena Barreto, ...|15.300000190734863| Brazil|-22.9556367|-43.1880211|   fused|   7|  3|   22|     18|    9|507000000|     54|1602119934507|           180| 120|H5LG3vN3jcPlcbJ2A...|2020-10-07 22:18:...|henrique.mageste@...|henrique.mageste|\n",
      "|1602120846895|22.099000930786133|R. Mena Barreto, ...|16.799999237060547| Brazil|-22.9556134|-43.1879997|   fused|   7|  3|   22|     34|    9|895000000|      6|1602120846895|           180| 120|H5LG3vN3jcPlcbJ2A...|2020-10-07 22:34:...|henrique.mageste@...|henrique.mageste|\n",
      "|1602121213639| 15.10200023651123|R. Mena Barreto, ...| 14.90000057220459| Brazil|-22.9556477|-43.1880597|   fused|   7|  3|   22|     40|    9|639000000|     13|1602121213639|           180| 120|H5LG3vN3jcPlcbJ2A...|2020-10-07 22:40:...|henrique.mageste@...|henrique.mageste|\n",
      "|1602121736870|14.697999954223633|R. Mena Barreto, ...| 8.699999809265137| Brazil|-22.9556593|-43.1880598|   fused|   7|  3|   22|     48|    9|870000000|     56|1602121736870|           180| 120|H5LG3vN3jcPlcbJ2A...|2020-10-07 22:48:...|henrique.mageste@...|henrique.mageste|\n",
      "|1602121773593|13.946999549865723|R. Mena Barreto, ...| 8.699999809265137| Brazil|-22.9556522|-43.1880422|   fused|   7|  3|   22|     49|    9|593000000|     33|1602121773593|           180| 120|H5LG3vN3jcPlcbJ2A...|2020-10-07 22:49:...|henrique.mageste@...|henrique.mageste|\n",
      "|1602121834763|14.918000221252441|R. Mena Barreto, ...| 8.699999809265137| Brazil|-22.9556413|-43.1880571|   fused|   7|  3|   22|     50|    9|763000000|     34|1602121834763|           180| 120|H5LG3vN3jcPlcbJ2A...|2020-10-07 22:50:...|henrique.mageste@...|henrique.mageste|\n",
      "|1602121896253|14.197999954223633|R. Mena Barreto, ...| 8.699999809265137| Brazil|-22.9556438|-43.1880622|   fused|   7|  3|   22|     51|    9|253000000|     36|1602121896253|           180| 120|H5LG3vN3jcPlcbJ2A...|2020-10-07 22:51:...|henrique.mageste@...|henrique.mageste|\n",
      "|1602121957435|14.581999778747559|R. Mena Barreto, ...| 14.90000057220459| Brazil|-22.9555958|-43.1880177|   fused|   7|  3|   22|     52|    9|435000000|     37|1602121957435|           180| 120|H5LG3vN3jcPlcbJ2A...|2020-10-07 22:52:...|henrique.mageste@...|henrique.mageste|\n",
      "|1602122047811|14.772000312805176|R. Mena Barreto, ...|13.300000190734863| Brazil|-22.9555982|-43.1880122|   fused|   7|  3|   22|     54|    9|811000000|      7|1602122047811|           180| 120|H5LG3vN3jcPlcbJ2A...|2020-10-07 22:54:...|henrique.mageste@...|henrique.mageste|\n",
      "|1602122109008|14.621999740600586|R. Mena Barreto, ...| 14.90000057220459| Brazil|-22.9556024|-43.1880194|   fused|   7|  3|   22|     55|    9|  8000000|      9|1602122109008|           180| 120|H5LG3vN3jcPlcbJ2A...|2020-10-07 22:55:...|henrique.mageste@...|henrique.mageste|\n",
      "|1602122231374|14.581999778747559|R. Mena Barreto, ...| 14.90000057220459| Brazil|-22.9555958|-43.1880177|   fused|   7|  3|   22|     57|    9|374000000|     11|1602122231374|           180| 120|H5LG3vN3jcPlcbJ2A...|2020-10-07 22:57:...|henrique.mageste@...|henrique.mageste|\n",
      "|1602122353899| 15.03499984741211|R. Mena Barreto, ...| 14.90000057220459| Brazil|-22.9556036|-43.1880162|   fused|   7|  3|   22|     59|    9|899000000|     13|1602122353899|           180| 120|H5LG3vN3jcPlcbJ2A...|2020-10-07 22:59:...|henrique.mageste@...|henrique.mageste|\n",
      "|1602122391810|  22.1560001373291|R. Mena Barreto, ...| 9.200000762939453| Brazil|-22.9556305|-43.1880246|   fused|   7|  3|   22|     59|    9|810000000|     51|1602122391810|           180| 120|H5LG3vN3jcPlcbJ2A...|2020-10-07 22:59:...|henrique.mageste@...|henrique.mageste|\n",
      "|1602122431772|13.583999633789062|R. Mena Barreto, ...| 7.400000095367432| Brazil|-22.9556625|-43.1880642|   fused|   7|  3|   23|      0|    9|772000000|     31|1602122431772|           180| 120|H5LG3vN3jcPlcbJ2A...|2020-10-07 23:00:...|henrique.mageste@...|henrique.mageste|\n",
      "|1602122552919|13.487000465393066|R. Mena Barreto, ...| 8.699999809265137| Brazil|-22.9556628|-43.1880648|   fused|   7|  3|   23|      2|    9|919000000|     32|1602122552919|           180| 120|H5LG3vN3jcPlcbJ2A...|2020-10-07 23:02:...|henrique.mageste@...|henrique.mageste|\n",
      "|1602122613699|13.333000183105469|R. Mena Barreto, ...| 8.699999809265137| Brazil|-22.9556675|-43.1880668|   fused|   7|  3|   23|      3|    9|699000000|     33|1602122613699|           180| 120|H5LG3vN3jcPlcbJ2A...|2020-10-07 23:03:...|henrique.mageste@...|henrique.mageste|\n",
      "|1602122673925|13.345999717712402|R. Mena Barreto, ...| 8.699999809265137| Brazil|-22.9556679|-43.1880694|   fused|   7|  3|   23|      4|    9|925000000|     33|1602122673925|           180| 120|H5LG3vN3jcPlcbJ2A...|2020-10-07 23:04:...|henrique.mageste@...|henrique.mageste|\n",
      "|1602122734142| 13.48900032043457|R. Mena Barreto, ...| 7.400000095367432| Brazil|-22.9556638|-43.1880654|   fused|   7|  3|   23|      5|    9|142000000|     34|1602122734142|           180| 120|H5LG3vN3jcPlcbJ2A...|2020-10-07 23:05:...|henrique.mageste@...|henrique.mageste|\n",
      "|1602123525544|16.350000381469727|R. Mena Barreto, ...| 8.699999809265137| Brazil|-22.9556487| -43.188038|   fused|   7|  3|   23|     18|    9|544000000|     45|1602123525544|           180| 120|H5LG3vN3jcPlcbJ2A...|2020-10-07 23:18:...|henrique.mageste@...|henrique.mageste|\n",
      "+-------------+------------------+--------------------+------------------+-------+-----------+-----------+--------+----+---+-----+-------+-----+---------+-------+-------------+--------------+----+--------------------+--------------------+--------------------+----------------+\n",
      "only showing top 20 rows\n",
      "\n",
      "+-------------+------------------+--------------------+------------------+-------+-----------+-----------+--------+----+---+-----+-------+-----+---------+-------+-------------+--------------+----+--------------------+--------------------+--------------------+----------------+-------------+------------------+--------------------+------------------+-------+-----------+-----------+--------+----+---+-----+-------+-----+---------+-------+-------------+--------------+----+--------------------+--------------------+--------------------+-----------------+\n",
      "| timestamp_id|          accuracy|             address|          altitude|country|   latitude|  longitude|provider|date|day|hours|minutes|month|    nanos|seconds|         time|timezoneOffset|year|                 uid|             ts_date|               email|        username| timestamp_id|          accuracy|             address|          altitude|country|   latitude|  longitude|provider|date|day|hours|minutes|month|    nanos|seconds|         time|timezoneOffset|year|                 uid|             ts_date|               email|         username|\n",
      "+-------------+------------------+--------------------+------------------+-------+-----------+-----------+--------+----+---+-----+-------+-----+---------+-------+-------------+--------------+----+--------------------+--------------------+--------------------+----------------+-------------+------------------+--------------------+------------------+-------+-----------+-----------+--------+----+---+-----+-------+-----+---------+-------+-------------+--------------+----+--------------------+--------------------+--------------------+-----------------+\n",
      "|1602220673529|14.873000144958496|R. Mena Barreto, ...| 8.699999809265137| Brazil|-22.9556502|-43.1880566|   fused|   9|  5|    2|     17|    9|529000000|     53|1602220673529|           180| 120|H5LG3vN3jcPlcbJ2A...|2020-10-09 02:17:...|henrique.mageste@...|henrique.mageste|1602220656448|13.359000205993652|R. Srg. Aquino, 2...| 2.700000047683716| Brasil|-22.8381119|-43.2623104|   fused|   9|  5|    2|     17|    9|448000000|     36|1602220656448|           180| 120|uF9x6cGOL9bclGCkk...|2020-10-09 02:17:...|wallace.mendes.rj...|wallace.mendes.rj|\n",
      "|1602218007383| 18.86400032043457|R. Mena Barreto, ...| 9.200000762939453| Brazil|-22.9556365|-43.1880648|   fused|   9|  5|    1|     33|    9|383000000|     27|1602218007383|           180| 120|H5LG3vN3jcPlcbJ2A...|2020-10-09 01:33:...|henrique.mageste@...|henrique.mageste|1602218035715|15.362000465393066|R. Srg. Aquino, 2...|2.4000000953674316| Brasil|-22.8381071| -43.262314|   fused|   9|  5|    1|     33|    9|715000000|     55|1602218035715|           180| 120|uF9x6cGOL9bclGCkk...|2020-10-09 01:33:...|wallace.mendes.rj...|wallace.mendes.rj|\n",
      "|1602341580368|14.982000350952148|R. Mena Barreto, ...| 8.800000190734863| Brazil| -22.955643|-43.1880614|   fused|  10|  6|   11|     53|    9|368000000|      0|1602341580368|           180| 120|H5LG3vN3jcPlcbJ2A...|2020-10-10 11:53:...|henrique.mageste@...|henrique.mageste|1602341589790|13.520000457763672|R. Srg. Aquino, 2...| 2.700000047683716| Brasil|-22.8381195|-43.2623235|   fused|  10|  6|   11|     53|    9|790000000|      9|1602341589790|           180| 120|uF9x6cGOL9bclGCkk...|2020-10-10 11:53:...|wallace.mendes.rj...|wallace.mendes.rj|\n",
      "|1602128220664|15.812000274658203|R. Mena Barreto, ...|  9.90000057220459| Brazil|-22.9555817|-43.1880096|   fused|   8|  4|    0|     37|    9|664000000|      0|1602128220664|           180| 120|H5LG3vN3jcPlcbJ2A...|2020-10-08 00:37:...|henrique.mageste@...|henrique.mageste|1602128222627|16.857999801635742|R. Srg. Aquino, 2...|2.4000000953674316| Brasil|-22.8381105|-43.2623087|   fused|   8|  4|    0|     37|    9|627000000|      2|1602128222627|           180| 120|uF9x6cGOL9bclGCkk...|2020-10-08 00:37:...|wallace.mendes.rj...|wallace.mendes.rj|\n",
      "|1602128273216|14.435999870300293|R. Mena Barreto, ...|14.800000190734863| Brazil|-22.9555539|-43.1879927|   fused|   8|  4|    0|     37|    9|216000000|     53|1602128273216|           180| 120|H5LG3vN3jcPlcbJ2A...|2020-10-08 00:37:...|henrique.mageste@...|henrique.mageste|1602128222627|16.857999801635742|R. Srg. Aquino, 2...|2.4000000953674316| Brasil|-22.8381105|-43.2623087|   fused|   8|  4|    0|     37|    9|627000000|      2|1602128222627|           180| 120|uF9x6cGOL9bclGCkk...|2020-10-08 00:37:...|wallace.mendes.rj...|wallace.mendes.rj|\n",
      "|1602217283758|14.418000221252441|R. Mena Barreto, ...| 8.699999809265137| Brazil|-22.9556559|-43.1880344|   fused|   9|  5|    1|     21|    9|758000000|     23|1602217283758|           180| 120|H5LG3vN3jcPlcbJ2A...|2020-10-09 01:21:...|henrique.mageste@...|henrique.mageste|1602217307790|16.764999389648438|R. Srg. Aquino, 2...|2.4000000953674316| Brasil| -22.838082|-43.2622886|   fused|   9|  5|    1|     21|    9|790000000|     47|1602217307790|           180| 120|uF9x6cGOL9bclGCkk...|2020-10-09 01:21:...|wallace.mendes.rj...|wallace.mendes.rj|\n",
      "|1602130157205|20.847999572753906|R. Mena Barreto, ...| 8.699999809265137| Brazil| -22.955618|-43.1880101|   fused|   8|  4|    1|      9|    9|205000000|     17|1602130157205|           180| 120|H5LG3vN3jcPlcbJ2A...|2020-10-08 01:09:...|henrique.mageste@...|henrique.mageste|1602130175228|15.442999839782715|R. Srg. Aquino, 2...|2.4000000953674316| Brasil|-22.8381053|-43.2623156|   fused|   8|  4|    1|      9|    9|228000000|     35|1602130175228|           180| 120|uF9x6cGOL9bclGCkk...|2020-10-08 01:09:...|wallace.mendes.rj...|wallace.mendes.rj|\n",
      "|1602212179794|13.967000007629395|R. Mena Barreto, ...| 9.200000762939453| Brazil| -22.955658|-43.1880547|   fused|   8|  4|   23|     56|    9|794000000|     19|1602212179794|           180| 120|H5LG3vN3jcPlcbJ2A...|2020-10-08 23:56:...|henrique.mageste@...|henrique.mageste|1602212200602|16.566999435424805|R. Srg. Aquino, 2...| 2.700000047683716| Brasil|-22.8381081|-43.2622912|   fused|   8|  4|   23|     56|    9|602000000|     40|1602212200602|           180| 120|uF9x6cGOL9bclGCkk...|2020-10-08 23:56:...|wallace.mendes.rj...|wallace.mendes.rj|\n",
      "|1602220327461|16.051000595092773|R. Mena Barreto, ...| 7.400000095367432| Brazil|-22.9556613|-43.1880402|   fused|   9|  5|    2|     12|    9|461000000|      7|1602220327461|           180| 120|H5LG3vN3jcPlcbJ2A...|2020-10-09 02:12:...|henrique.mageste@...|henrique.mageste|1602220320201|13.107000350952148|R. Srg. Aquino, 2...| 2.700000047683716| Brasil|-22.8381136|-43.2623138|   fused|   9|  5|    2|     12|    9|201000000|      0|1602220320201|           180| 120|uF9x6cGOL9bclGCkk...|2020-10-09 02:12:...|wallace.mendes.rj...|wallace.mendes.rj|\n",
      "|1602341142695|111.31500244140625|Rua Dona Mariana,...|              16.5| Brazil|-22.9556239|-43.1876238|   fused|  10|  6|   11|     45|    9|695000000|     42|1602341142695|           180| 120|H5LG3vN3jcPlcbJ2A...|2020-10-10 11:45:...|henrique.mageste@...|henrique.mageste|1602341134259|17.886999130249023|R. Srg. Aquino, 2...| 2.700000047683716| Brasil|-22.8380969|-43.2622522|   fused|  10|  6|   11|     45|    9|259000000|     34|1602341134259|           180| 120|uF9x6cGOL9bclGCkk...|2020-10-10 11:45:...|wallace.mendes.rj...|wallace.mendes.rj|\n",
      "|1602341541374|14.982000350952148|R. Mena Barreto, ...| 8.800000190734863| Brazil| -22.955643|-43.1880614|   fused|  10|  6|   11|     52|    9|374000000|     21|1602341541374|           180| 120|H5LG3vN3jcPlcbJ2A...|2020-10-10 11:52:...|henrique.mageste@...|henrique.mageste|1602341525288|14.819999694824219|R. Srg. Aquino, 2...| 2.700000047683716| Brasil|-22.8381128|-43.2623059|   fused|  10|  6|   11|     52|    9|288000000|      5|1602341525288|           180| 120|uF9x6cGOL9bclGCkk...|2020-10-10 11:52:...|wallace.mendes.rj...|wallace.mendes.rj|\n"
     ]
    },
    {
     "name": "stdout",
     "output_type": "stream",
     "text": [
      "|1602220176303|14.053999900817871|R. Mena Barreto, ...| 7.400000095367432| Brazil|-22.9556655|-43.1880857|   fused|   9|  5|    2|      9|    9|303000000|     36|1602220176303|           180| 120|H5LG3vN3jcPlcbJ2A...|2020-10-09 02:09:...|henrique.mageste@...|henrique.mageste|1602220191319|14.019000053405762|R. Srg. Aquino, 2...| 2.700000047683716| Brasil|-22.8381156|-43.2623169|   fused|   9|  5|    2|      9|    9|319000000|     51|1602220191319|           180| 120|uF9x6cGOL9bclGCkk...|2020-10-09 02:09:...|wallace.mendes.rj...|wallace.mendes.rj|\n",
      "|1602213567585|15.159000396728516|R. Mena Barreto, ...|  8.40000057220459| Brazil|-22.9556613|-43.1880397|   fused|   9|  5|    0|     19|    9|585000000|     27|1602213567585|           180| 120|H5LG3vN3jcPlcbJ2A...|2020-10-09 00:19:...|henrique.mageste@...|henrique.mageste|1602213573949|14.991999626159668|R. Srg. Aquino, 2...|2.4000000953674316| Brasil|-22.8381092|-43.2623214|   fused|   9|  5|    0|     19|    9|949000000|     33|1602213573949|           180| 120|uF9x6cGOL9bclGCkk...|2020-10-09 00:19:...|wallace.mendes.rj...|wallace.mendes.rj|\n",
      "|1602218722017| 11.53499984741211|R. Mena Barreto, ...| 8.699999809265137| Brazil|-22.9556655| -43.188078|   fused|   9|  5|    1|     45|    9| 17000000|     22|1602218722017|           180| 120|H5LG3vN3jcPlcbJ2A...|2020-10-09 01:45:...|henrique.mageste@...|henrique.mageste|1602218707148|15.895999908447266|R. Srg. Aquino, 2...| 2.700000047683716| Brasil|-22.8381062|-43.2623072|   fused|   9|  5|    1|     45|    9|148000000|      7|1602218707148|           180| 120|uF9x6cGOL9bclGCkk...|2020-10-09 01:45:...|wallace.mendes.rj...|wallace.mendes.rj|\n",
      "|1602216561205|14.859999656677246|R. Mena Barreto, ...|13.300000190734863| Brazil|-22.9556428|-43.1880379|   fused|   9|  5|    1|      9|    9|205000000|     21|1602216561205|           180| 120|H5LG3vN3jcPlcbJ2A...|2020-10-09 01:09:...|henrique.mageste@...|henrique.mageste|1602216562881|15.508000373840332|R. Srg. Aquino, 2...|2.4000000953674316| Brasil|-22.8381065| -43.262306|   fused|   9|  5|    1|      9|    9|881000000|     22|1602216562881|           180| 120|uF9x6cGOL9bclGCkk...|2020-10-09 01:09:...|wallace.mendes.rj...|wallace.mendes.rj|\n",
      "|1602122673925|13.345999717712402|R. Mena Barreto, ...| 8.699999809265137| Brazil|-22.9556679|-43.1880694|   fused|   7|  3|   23|      4|    9|925000000|     33|1602122673925|           180| 120|H5LG3vN3jcPlcbJ2A...|2020-10-07 23:04:...|henrique.mageste@...|henrique.mageste|1602122684784|14.159000396728516|R. Srg. Aquino, 2...|2.4000000953674316| Brasil| -22.838107|-43.2622988|   fused|   7|  3|   23|      4|    9|784000000|     44|1602122684784|           180| 120|uF9x6cGOL9bclGCkk...|2020-10-07 23:04:...|wallace.mendes.rj...|wallace.mendes.rj|\n",
      "|1602217700576|14.767999649047852|R. Mena Barreto, ...| 8.699999809265137| Brazil|-22.9556649|-43.1880555|   fused|   9|  5|    1|     28|    9|576000000|     20|1602217700576|           180| 120|H5LG3vN3jcPlcbJ2A...|2020-10-09 01:28:...|henrique.mageste@...|henrique.mageste|1602217734688|16.538999557495117|R. Srg. Aquino, 2...|2.4000000953674316| Brasil|-22.8381146|-43.2623054|   fused|   9|  5|    1|     28|    9|688000000|     54|1602217734688|           180| 120|uF9x6cGOL9bclGCkk...|2020-10-09 01:28:...|wallace.mendes.rj...|wallace.mendes.rj|\n",
      "|1602181462666| 14.24899959564209|R. Mena Barreto, ...|11.600000381469727| Brazil|-22.9556478|-43.1880531|   fused|   8|  4|   15|     24|    9|666000000|     22|1602181462666|           180| 120|H5LG3vN3jcPlcbJ2A...|2020-10-08 15:24:...|henrique.mageste@...|henrique.mageste|1602181454358|15.402999877929688|R. Srg. Aquino, 2...| 2.700000047683716| Brasil|-22.8381081|-43.2623114|   fused|   8|  4|   15|     24|    9|358000000|     14|1602181454358|           180| 120|uF9x6cGOL9bclGCkk...|2020-10-08 15:24:...|wallace.mendes.rj...|wallace.mendes.rj|\n",
      "|1602181462666| 14.24899959564209|R. Mena Barreto, ...|11.600000381469727| Brazil|-22.9556478|-43.1880531|   fused|   8|  4|   15|     24|    9|666000000|     22|1602181462666|           180| 120|H5LG3vN3jcPlcbJ2A...|2020-10-08 15:24:...|henrique.mageste@...|henrique.mageste|1602181469000|              28.0|R. Nair, 43 - Ola...| 2.700000047683716| Brasil|-22.8381787|-43.2624322|   fused|   8|  4|   15|     24|    9|        0|     29|1602181469000|           180| 120|uF9x6cGOL9bclGCkk...| 2020-10-08 15:24:29|wallace.mendes.rj...|wallace.mendes.rj|\n",
      "|1602209004149|13.262999534606934|R. Mena Barreto, ...| 7.400000095367432| Brazil|-22.9556592|-43.1880615|   fused|   8|  4|   23|      3|    9|149000000|     24|1602209004149|           180| 120|H5LG3vN3jcPlcbJ2A...|2020-10-08 23:03:...|henrique.mageste@...|henrique.mageste|1602209003263| 16.39900016784668|R. Srg. Aquino, 2...| 2.700000047683716| Brasil|-22.8381122|-43.2623123|   fused|   8|  4|   23|      3|    9|263000000|     23|1602209003263|           180| 120|uF9x6cGOL9bclGCkk...|2020-10-08 23:03:...|wallace.mendes.rj...|wallace.mendes.rj|\n",
      "+-------------+------------------+--------------------+------------------+-------+-----------+-----------+--------+----+---+-----+-------+-----+---------+-------+-------------+--------------+----+--------------------+--------------------+--------------------+----------------+-------------+------------------+--------------------+------------------+-------+-----------+-----------+--------+----+---+-----+-------+-----+---------+-------+-------------+--------------+----+--------------------+--------------------+--------------------+-----------------+\n",
      "only showing top 20 rows\n",
      "\n",
      "+--------------------+--------------------+-----+-----+-------+-------+--------------------+--------------------+-----------+-----------+-----------+-----------+--------------------+--------------------+------------------+\n",
      "|             ts_date|             ts_date|hours|hours|minutes|minutes|               email|               email|  longitude|  longitude|   latitude|   latitude|             address|             address|  distance_between|\n",
      "+--------------------+--------------------+-----+-----+-------+-------+--------------------+--------------------+-----------+-----------+-----------+-----------+--------------------+--------------------+------------------+\n",
      "|2020-10-09 02:17:...|2020-10-09 02:17:...|    2|    2|     17|     17|henrique.mageste@...|wallace.mendes.rj...|-43.1880566|-43.2623104|-22.9556502|-22.8381119|R. Mena Barreto, ...|R. Srg. Aquino, 2...|15121.787247678652|\n",
      "|2020-10-09 01:33:...|2020-10-09 01:33:...|    1|    1|     33|     33|henrique.mageste@...|wallace.mendes.rj...|-43.1880648| -43.262314|-22.9556365|-22.8381071|R. Mena Barreto, ...|R. Srg. Aquino, 2...|15120.695169169148|\n",
      "|2020-10-10 11:53:...|2020-10-10 11:53:...|   11|   11|     53|     53|henrique.mageste@...|wallace.mendes.rj...|-43.1880614|-43.2623235| -22.955643|-22.8381195|R. Mena Barreto, ...|R. Srg. Aquino, 2...|15120.792607343807|\n",
      "|2020-10-08 00:37:...|2020-10-08 00:37:...|    0|    0|     37|     37|henrique.mageste@...|wallace.mendes.rj...|-43.1880096|-43.2623087|-22.9555817|-22.8381105|R. Mena Barreto, ...|R. Srg. Aquino, 2...|15117.675562343844|\n",
      "|2020-10-08 00:37:...|2020-10-08 00:37:...|    0|    0|     37|     37|henrique.mageste@...|wallace.mendes.rj...|-43.1879927|-43.2623087|-22.9555539|-22.8381105|R. Mena Barreto, ...|R. Srg. Aquino, 2...|15115.876845910876|\n",
      "|2020-10-09 01:21:...|2020-10-09 01:21:...|    1|    1|     21|     21|henrique.mageste@...|wallace.mendes.rj...|-43.1880344|-43.2622886|-22.9556559| -22.838082|R. Mena Barreto, ...|R. Srg. Aquino, 2...|15125.229663686974|\n",
      "|2020-10-08 01:09:...|2020-10-08 01:09:...|    1|    1|      9|      9|henrique.mageste@...|wallace.mendes.rj...|-43.1880101|-43.2623156| -22.955618|-22.8381053|R. Mena Barreto, ...|R. Srg. Aquino, 2...|15121.992428413063|\n",
      "|2020-10-08 23:56:...|2020-10-08 23:56:...|   23|   23|     56|     56|henrique.mageste@...|wallace.mendes.rj...|-43.1880547|-43.2622912| -22.955658|-22.8381081|R. Mena Barreto, ...|R. Srg. Aquino, 2...|15122.010822754033|\n",
      "|2020-10-09 02:12:...|2020-10-09 02:12:...|    2|    2|     12|     12|henrique.mageste@...|wallace.mendes.rj...|-43.1880402|-43.2623138|-22.9556613|-22.8381136|R. Mena Barreto, ...|R. Srg. Aquino, 2...| 15123.71065537381|\n",
      "|2020-10-10 11:45:...|2020-10-10 11:45:...|   11|   11|     45|     45|henrique.mageste@...|wallace.mendes.rj...|-43.1876238|-43.2622522|-22.9556239|-22.8380969|Rua Dona Mariana,...|R. Srg. Aquino, 2...| 15140.04000412778|\n",
      "|2020-10-10 11:52:...|2020-10-10 11:52:...|   11|   11|     52|     52|henrique.mageste@...|wallace.mendes.rj...|-43.1880614|-43.2623059| -22.955643|-22.8381128|R. Mena Barreto, ...|R. Srg. Aquino, 2...|15120.529728346006|\n",
      "|2020-10-09 02:09:...|2020-10-09 02:09:...|    2|    2|      9|      9|henrique.mageste@...|wallace.mendes.rj...|-43.1880857|-43.2623169|-22.9556655|-22.8381156|R. Mena Barreto, ...|R. Srg. Aquino, 2...|15121.737615562468|\n",
      "|2020-10-09 00:19:...|2020-10-09 00:19:...|    0|    0|     19|     19|henrique.mageste@...|wallace.mendes.rj...|-43.1880397|-43.2623214|-22.9556613|-22.8381092|R. Mena Barreto, ...|R. Srg. Aquino, 2...|15124.550959684544|\n",
      "|2020-10-09 01:45:...|2020-10-09 01:45:...|    1|    1|     45|     45|henrique.mageste@...|wallace.mendes.rj...| -43.188078|-43.2623072|-22.9556655|-22.8381062|R. Mena Barreto, ...|R. Srg. Aquino, 2...| 15122.53822927528|\n",
      "|2020-10-09 01:09:...|2020-10-09 01:09:...|    1|    1|      9|      9|henrique.mageste@...|wallace.mendes.rj...|-43.1880379| -43.262306|-22.9556428|-22.8381065|R. Mena Barreto, ...|R. Srg. Aquino, 2...|15122.332056743595|\n",
      "|2020-10-07 23:04:...|2020-10-07 23:04:...|   23|   23|      4|      4|henrique.mageste@...|wallace.mendes.rj...|-43.1880694|-43.2622988|-22.9556679| -22.838107|R. Mena Barreto, ...|R. Srg. Aquino, 2...|15122.702272879895|\n",
      "|2020-10-09 01:28:...|2020-10-09 01:28:...|    1|    1|     28|     28|henrique.mageste@...|wallace.mendes.rj...|-43.1880555|-43.2623054|-22.9556649|-22.8381146|R. Mena Barreto, ...|R. Srg. Aquino, 2...|15122.739358105382|\n",
      "|2020-10-08 15:24:...|2020-10-08 15:24:...|   15|   15|     24|     24|henrique.mageste@...|wallace.mendes.rj...|-43.1880531|-43.2623114|-22.9556478|-22.8381081|R. Mena Barreto, ...|R. Srg. Aquino, 2...|15122.153738079605|\n",
      "|2020-10-08 15:24:...| 2020-10-08 15:24:29|   15|   15|     24|     24|henrique.mageste@...|wallace.mendes.rj...|-43.1880531|-43.2624322|-22.9556478|-22.8381787|R. Mena Barreto, ...|R. Nair, 43 - Ola...|15121.599076337558|\n",
      "|2020-10-08 23:03:...|2020-10-08 23:03:...|   23|   23|      3|      3|henrique.mageste@...|wallace.mendes.rj...|-43.1880615|-43.2623123|-22.9556592|-22.8381122|R. Mena Barreto, ...|R. Srg. Aquino, 2...|15122.468680729764|\n",
      "+--------------------+--------------------+-----+-----+-------+-------+--------------------+--------------------+-----------+-----------+-----------+-----------+--------------------+--------------------+------------------+\n",
      "only showing top 20 rows\n",
      "\n"
     ]
    },
    {
     "data": {
      "text/plain": [
       "user1: String = henrique.mageste@gmail.com\n",
       "user2: String = wallace.mendes.rj@gmail.com\n",
       "time_interval_1: org.apache.spark.sql.Column = 2020-10-07 20:20\n",
       "time_interval_2: org.apache.spark.sql.Column = 2020-10-07 20:20\n",
       "user1_DF: org.apache.spark.sql.Dataset[org.apache.spark.sql.Row] = [timestamp_id: string, accuracy: double ... 20 more fields]\n",
       "user2_DF: org.apache.spark.sql.Dataset[org.apache.spark.sql.Row] = [timestamp_id: string, accuracy: double ... 20 more fields]\n",
       "joinExpression: org.apache.spark.sql.Column = (((user1.date = date) AND (user1.hours = hours)) AND (user1.minutes = minutes))\n",
       "joinType: String = inner\n",
       "c: org.apache.spark.sql.DataFrame = [timestamp_id: string, accuracy: double ... 42 more fields]\n",
       "c2: org.apache.spark.sql.DataFrame = [ts_date: timestamp, ts_date: timestamp ... ...\n"
      ]
     },
     "execution_count": 67,
     "metadata": {},
     "output_type": "execute_result"
    }
   ],
   "source": [
    "val user1 = \"henrique.mageste@gmail.com\"\n",
    "val user2 = \"wallace.mendes.rj@gmail.com\"\n",
    "val time_interval_1 = lit(\"2020-10-07 20:20\")\n",
    "val time_interval_2 = lit(\"2020-10-07 20:20\")\n",
    "\n",
    "val user1_DF = locWithDateJoinUserDF.filter($\"email\" === user1).as(\"user1\")\n",
    "val user2_DF = locWithDateJoinUserDF.filter($\"email\" === user2).as(\"user2\")\n",
    "\n",
    "user1_DF.show()\n",
    "\n",
    "val joinExpression = ( col(\"user1.date\") === user2_DF.col(\"user2.date\") &&  col(\"user1.hours\") === user2_DF.col(\"user2.hours\") && col(\"user1.minutes\") === user2_DF.col(\"user2.minutes\"))\n",
    "val joinType = \"inner\"\n",
    "val c = user1_DF.join(user2_DF, joinExpression, joinType)\n",
    "\n",
    "c.show()\n",
    "// mostrar o resultado do join\n",
    "c.select(\n",
    "    col(\"user1.ts_date\")\n",
    "    ,col(\"user2.ts_date\")\n",
    "    ,col(\"user1.hours\")\n",
    "    ,col(\"user2.hours\")\n",
    "    ,col(\"user1.minutes\")\n",
    "    ,col(\"user2.minutes\")\n",
    "    ,col(\"user1.email\")\n",
    "    ,col(\"user2.email\")\n",
    "    ,col(\"user1.longitude\")\n",
    "    ,col(\"user2.longitude\")\n",
    "    ,col(\"user1.latitude\")\n",
    "    ,col(\"user2.latitude\")\n",
    "    ,col(\"user1.address\")\n",
    "    ,col(\"user2.address\")\n",
    "    )\n",
    "    .withColumn(\"distance_between\", calculate_distance_col(col(\"user1.latitude\"), col(\"user1.longitude\"), col(\"user2.latitude\"), col(\"user2.longitude\")) ).show()\n",
    "    \n",
    "    \n",
    "    \n",
    "\n",
    "val c2= c.select(\n",
    "    col(\"user1.ts_date\")\n",
    "    ,col(\"user2.ts_date\")\n",
    "    ,col(\"user1.hours\")\n",
    "    ,col(\"user2.hours\")\n",
    "    ,col(\"user1.minutes\")\n",
    "    ,col(\"user2.minutes\")\n",
    "    ,col(\"user1.email\")\n",
    "    ,col(\"user2.email\")\n",
    "    ,col(\"user1.longitude\")\n",
    "    ,col(\"user2.longitude\")\n",
    "    ,col(\"user1.latitude\")\n",
    "    ,col(\"user2.latitude\")\n",
    "    ,col(\"user1.address\")\n",
    "    ,col(\"user2.address\")\n",
    "    )\n",
    "    .withColumn(\"distance_between\", calculate_distance_col(col(\"user1.latitude\"), col(\"user1.longitude\"), col(\"user2.latitude\"), col(\"user2.longitude\")) )"
   ]
  },
  {
   "cell_type": "code",
   "execution_count": 68,
   "metadata": {},
   "outputs": [
    {
     "name": "stdout",
     "output_type": "stream",
     "text": [
      "+--------------------+--------------------+---------------------+---------------------+\n",
      "|             ts_date|             ts_date|min(distance_between)|max(distance_between)|\n",
      "+--------------------+--------------------+---------------------+---------------------+\n",
      "|2020-10-08 23:49:...|2020-10-08 23:49:...|   15122.700538443702|   15122.700538443702|\n",
      "|2020-10-09 02:14:...|2020-10-09 02:14:...|   15084.536222374923|   15084.536222374923|\n",
      "|2020-10-10 11:45:...|2020-10-10 11:45:...|    15140.04000412778|    15140.04000412778|\n",
      "|2020-10-07 22:59:...|2020-10-07 22:59:...|    15118.90405992265|    15118.90405992265|\n",
      "|2020-10-09 01:48:...|2020-10-09 01:48:...|   15122.751603196963|   15122.751603196963|\n",
      "|2020-10-09 01:13:...|2020-10-09 01:13:...|   15123.050819446209|   15123.050819446209|\n",
      "|2020-10-10 12:03:...|2020-10-10 12:03:...|   15120.360989250948|   15120.360989250948|\n",
      "|2020-10-08 00:16:...|2020-10-08 00:16:...|   15213.285690905239|   15213.285690905239|\n",
      "|2020-10-09 01:11:...|2020-10-09 01:11:...|   15123.457206640784|   15123.457206640784|\n",
      "|2020-10-09 01:59:...|2020-10-09 01:59:...|   15122.426091976069|   15122.426091976069|\n",
      "|2020-10-09 00:05:...|2020-10-09 00:05:...|   15123.650840875582|   15123.650840875582|\n",
      "|2020-10-09 01:29:...|2020-10-09 01:29:...|   15103.670115313877|   15103.670115313877|\n",
      "|2020-10-09 00:06:...|2020-10-09 00:06:...|   15122.657668509411|   15122.657668509411|\n",
      "|2020-10-08 23:54:...|2020-10-08 23:54:...|   15123.240024465533|   15123.240024465533|\n",
      "|2020-10-10 12:06:...|2020-10-10 12:06:...|   15120.631003254854|   15120.631003254854|\n",
      "|2020-10-09 00:26:...|2020-10-09 00:26:...|   15122.944306564645|   15122.944306564645|\n",
      "|2020-10-08 01:20:...|2020-10-08 01:20:...|   15121.900577078917|   15121.900577078917|\n",
      "|2020-10-09 01:17:...|2020-10-09 01:17:...|    15123.49967297161|    15123.49967297161|\n",
      "|2020-10-08 00:30:...|2020-10-08 00:30:...|   15130.426338331597|   15130.426338331597|\n",
      "|2020-10-08 01:25:...|2020-10-08 01:25:...|     15121.9152642509|     15121.9152642509|\n",
      "+--------------------+--------------------+---------------------+---------------------+\n",
      "only showing top 20 rows\n",
      "\n",
      "+--------------------+--------------------+---------------------+---------------------+\n",
      "|               email|               email|min(distance_between)|max(distance_between)|\n",
      "+--------------------+--------------------+---------------------+---------------------+\n",
      "|henrique.mageste@...|wallace.mendes.rj...|   15003.316084810856|   15367.886012191113|\n",
      "+--------------------+--------------------+---------------------+---------------------+\n",
      "\n"
     ]
    }
   ],
   "source": [
    "// AGREGADO POR DATA\n",
    "c2.groupBy(col(\"user1.ts_date\"),col(\"user2.ts_date\")).agg(min(\"distance_between\"),max(\"distance_between\")).show()\n",
    "\n",
    "// AGREGADO POR USUÁRIO    \n",
    "c2.groupBy(col(\"user1.email\"),col(\"user2.email\")).agg(min(\"distance_between\"),max(\"distance_between\")).show()"
   ]
  },
  {
   "cell_type": "code",
   "execution_count": 47,
   "metadata": {},
   "outputs": [
    {
     "name": "stdout",
     "output_type": "stream",
     "text": [
      "+------------+--------+-------+--------+-------+--------+---------+--------+----+---+-----+-------+-----+-----+-------+----+--------------+----+---+-------+-----+--------+\n",
      "|timestamp_id|accuracy|address|altitude|country|latitude|longitude|provider|date|day|hours|minutes|month|nanos|seconds|time|timezoneOffset|year|uid|ts_date|email|username|\n",
      "+------------+--------+-------+--------+-------+--------+---------+--------+----+---+-----+-------+-----+-----+-------+----+--------------+----+---+-------+-----+--------+\n",
      "+------------+--------+-------+--------+-------+--------+---------+--------+----+---+-----+-------+-----+-----+-------+----+--------------+----+---+-------+-----+--------+\n",
      "\n"
     ]
    },
    {
     "data": {
      "text/plain": [
       "user1: String = henrique.mageste@gmail.com\n",
       "user2: String = viniciusmgaspar@gmail.com\n",
       "time_interval_1: org.apache.spark.sql.Column = 2020-10-07 20:20\n",
       "time_interval_2: org.apache.spark.sql.Column = 2020-10-07 20:20\n",
       "joinType: String = inner\n",
       "joinExpression: org.apache.spark.sql.Column = (uid = uid)\n",
       "user1_DF: org.apache.spark.sql.Dataset[org.apache.spark.sql.Row] = [timestamp_id: string, accuracy: double ... 20 more fields]\n",
       "user2_DF: org.apache.spark.sql.Dataset[org.apache.spark.sql.Row] = [timestamp_id: string, accuracy: double ... 20 more fields]\n",
       "user1_time_interval: org.apache.spark.sql.Dataset[org.apache.spark.sql.Row] = [timestamp_id: string, accuracy: double ... 20 more fields]\n",
       "user2_time_interval: org.apache.spark.sql.Dataset[org.apache.spark.sql.Row] = [timestamp_id: string, accuracy...\n"
      ]
     },
     "execution_count": 47,
     "metadata": {},
     "output_type": "execute_result"
    }
   ],
   "source": [
    "val user1 = \"henrique.mageste@gmail.com\"\n",
    "val user2 = \"viniciusmgaspar@gmail.com\"\n",
    "val time_interval_1 = lit(\"2020-10-07 20:20\")\n",
    "val time_interval_2 = lit(\"2020-10-07 20:20\")\n",
    "\n",
    "var joinType = \"inner\"\n",
    "val joinExpression = locationsWithDateDF.col(\"uid\") === usersDF.col(\"uid\")\n",
    "\n",
    "val user1_DF = locationsWithDateDF.join(usersDF, joinExpression, joinType).drop(usersDF.col(\"uid\")).filter($\"Email\" === user1).orderBy($\"timestamp_id\")\n",
    "val user2_DF = locationsWithDateDF.join(usersDF, joinExpression, joinType).drop(usersDF.col(\"uid\")).filter($\"Email\" === user2).orderBy($\"timestamp_id\")\n",
    "\n",
    "val user1_time_interval = user1_DF.filter($\"ts_date\" >= time_interval_1).filter($\"ts_date\" <= time_interval_2)\n",
    "val user2_time_interval = user2_DF.filter($\"ts_date\" >= time_interval_1).filter($\"ts_date\" <= time_interval_2)\n",
    "\n",
    "user1_time_interval.show()\n",
    "// val user1_lat = user1_time_interval.select(\"latitude\").first()\n",
    "// val user1_lon = user1_time_interval.select(\"longitude\").first()\n",
    "\n",
    "// val user2_lat = user2_time_interval.select(\"latitude\").first()\n",
    "// val user2_lon = user2_time_interval.select(\"longitude\").first()\n",
    "\n",
    "// val d = calculate_distance_elem(user1_lat.getDouble(0), user1_lon.getDouble(0), user2_lat.getDouble(0), user2_lon.getDouble(0))\n",
    "\n",
    "// println(\"distance between user1 and user2: \" + d)\n"
   ]
  }
 ],
 "metadata": {
  "kernelspec": {
   "display_name": "spylon-kernel",
   "language": "scala",
   "name": "spylon-kernel"
  },
  "language_info": {
   "codemirror_mode": "text/x-scala",
   "file_extension": ".scala",
   "help_links": [
    {
     "text": "MetaKernel Magics",
     "url": "https://metakernel.readthedocs.io/en/latest/source/README.html"
    }
   ],
   "mimetype": "text/x-scala",
   "name": "scala",
   "pygments_lexer": "scala",
   "version": "0.4.1"
  }
 },
 "nbformat": 4,
 "nbformat_minor": 4
}
